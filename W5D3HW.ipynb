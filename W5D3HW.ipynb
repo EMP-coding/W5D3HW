{
 "cells": [
  {
   "cell_type": "markdown",
   "metadata": {},
   "source": [
    "Week 5 - Wednesday Questions\n"
   ]
  },
  {
   "cell_type": "markdown",
   "metadata": {},
   "source": [
    "1. List all customers with their address who live in Texas (use JOINs)"
   ]
  },
  {
   "cell_type": "code",
   "execution_count": null,
   "metadata": {
    "vscode": {
     "languageId": "sql"
    }
   },
   "outputs": [],
   "source": [
    "SELECT c.first_name, c.last_name, a.address \n",
    "FROM customer c\n",
    "JOIN address a ON c.address_id = a.address_id\n",
    "WHERE a.district = 'Texas';"
   ]
  },
  {
   "cell_type": "markdown",
   "metadata": {},
   "source": [
    "2. List all payments of more than $7.00 with the customer’s first and last name"
   ]
  },
  {
   "cell_type": "code",
   "execution_count": null,
   "metadata": {
    "vscode": {
     "languageId": "sql"
    }
   },
   "outputs": [],
   "source": [
    "-- To return all customer payments over $7\n",
    "SELECT c.first_name, c.last_name, p.amount\n",
    "FROM payment p\n",
    "JOIN customer c ON p.customer_id = c.customer_id \n",
    "WHERE p.amount > 7\n",
    "GROUP BY c.first_name, c.last_name, p.amount;\n",
    "-- Example of adding in a last name to the where clause \n",
    "SELECT c.first_name, c.last_name, p.amount\n",
    "FROM payment p\n",
    "JOIN customer c ON p.customer_id = c.customer_id \n",
    "WHERE p.amount > 7 AND last_name = 'Bates'\n",
    "GROUP BY c.first_name, c.last_name, p.amount;\n",
    "-- Returns 3 payments made by Daisy Bates over $7"
   ]
  },
  {
   "cell_type": "markdown",
   "metadata": {},
   "source": [
    "3. Show all customer names who have made over $175 in payments (use\n",
    "subqueries)"
   ]
  },
  {
   "cell_type": "code",
   "execution_count": null,
   "metadata": {
    "vscode": {
     "languageId": "sql"
    }
   },
   "outputs": [],
   "source": [
    "-- First made my inner query to test that I could grab the customer_id's of customers\n",
    "-- with payments over $175\n",
    "SELECT customer_id\n",
    "FROM payment\n",
    "GROUP BY customer_id \n",
    "HAVING sum(amount) > 175\n",
    "\n",
    "-- Made outer query and pasted inner query in \n",
    "\n",
    "SELECT first_name, last_name, \n",
    "FROM customer\n",
    "WHERE customer_id IN (\n",
    "\tSELECT customer_id\n",
    "\tFROM payment\n",
    "\tGROUP BY customer_id \n",
    "\tHAVING sum(amount) > 175\n",
    "    );\n",
    "\n",
    "-- This returns: \n",
    "-- ===============================\n",
    "-- Rhonda  Kennedy\t\n",
    "-- Clara   Shaw\t\n",
    "-- Eleanor Hunt\t\n",
    "-- Marion  Snyder\t\n",
    "-- Tommy   Collazo\t\n",
    "-- Karl\t   Seal\t\n"
   ]
  },
  {
   "cell_type": "markdown",
   "metadata": {},
   "source": [
    "4. List all customers that live in Argentina (use multiple joins)"
   ]
  },
  {
   "cell_type": "code",
   "execution_count": null,
   "metadata": {
    "vscode": {
     "languageId": "sql"
    }
   },
   "outputs": [],
   "source": [
    "SELECT *\n",
    "FROM address a \n",
    "JOIN customer b ON a.address_id = b.address_id \n",
    "JOIN city c ON a.city_id = c.city_id \n",
    "JOIN country d ON c.city_id = d.country_id \n",
    "WHERE d.country = 'Argentina';\n",
    "\n",
    "-- Returns \n",
    "-- Addis Abeba along with all his information"
   ]
  },
  {
   "cell_type": "markdown",
   "metadata": {},
   "source": [
    "5. Show all the film categories with their count in descending order"
   ]
  },
  {
   "cell_type": "code",
   "execution_count": null,
   "metadata": {
    "vscode": {
     "languageId": "sql"
    }
   },
   "outputs": [],
   "source": [
    "SELECT count(film_id) film_count, c.name\n",
    "FROM film_category fc\n",
    "JOIN category c ON fc.category_id = c.category_id\n",
    "GROUP BY c.name  \n",
    "ORDER BY film_count DESC \n",
    "\n",
    "-- Returns\n",
    "-- 74\tSports\n",
    "-- 73\tForeign\n",
    "-- 69\tFamily\n",
    "-- 68\tDocumentary\n",
    "-- 66\tAnimation\n",
    "-- 64\tAction\n",
    "-- 63\tNew\n",
    "-- 62\tDrama\n",
    "-- 61\tSci-Fi\n",
    "-- 61\tGames\n",
    "-- 60\tChildren\n",
    "-- 58\tComedy\n",
    "-- 57\tTravel\n",
    "-- 57\tClassics\n",
    "-- 56\tHorror\n",
    "-- 51\tMusic"
   ]
  },
  {
   "cell_type": "markdown",
   "metadata": {},
   "source": [
    "6. What film had the most actors in it (show film info)?"
   ]
  },
  {
   "cell_type": "code",
   "execution_count": null,
   "metadata": {
    "vscode": {
     "languageId": "sql"
    }
   },
   "outputs": [],
   "source": [
    "SELECT f.title, count(fa.actor_id) cfa \n",
    "FROM film_actor fa \n",
    "JOIN film f ON fa.film_id  = f.film_id \n",
    "GROUP BY f.title \n",
    "ORDER BY cfa DESC \n",
    "LIMIT 1;\n",
    "\n",
    "-- Returns\n",
    "-- Lambs Cincinatti\t15"
   ]
  },
  {
   "cell_type": "markdown",
   "metadata": {},
   "source": [
    "7. Which actor has been in the least movies?"
   ]
  },
  {
   "cell_type": "code",
   "execution_count": null,
   "metadata": {
    "vscode": {
     "languageId": "sql"
    }
   },
   "outputs": [],
   "source": [
    "SELECT a.first_name, a.last_name, count(a.actor_id) ac\n",
    "FROM actor a \n",
    "JOIN film_actor fa ON a.actor_id = fa.actor_id \n",
    "GROUP BY first_name, last_name \n",
    "ORDER BY ac ASC \n",
    "LIMIT 1;\n",
    "-- Returns\n",
    "-- Emily\tDee\t14"
   ]
  },
  {
   "cell_type": "markdown",
   "metadata": {},
   "source": [
    "8. Which country has the most cities?"
   ]
  },
  {
   "cell_type": "code",
   "execution_count": null,
   "metadata": {
    "vscode": {
     "languageId": "sql"
    }
   },
   "outputs": [],
   "source": [
    "SELECT c.country, count(cc.city_id) ccid \n",
    "FROM country c \n",
    "JOIN city cc ON c.country_id = cc.country_id \n",
    "GROUP BY c.country \n",
    "ORDER BY ccid DESC \n",
    "LIMIT 1;\n",
    "\n",
    "-- Returns\n",
    "-- India 60"
   ]
  },
  {
   "cell_type": "markdown",
   "metadata": {},
   "source": [
    "9. List the actors who have been in between 20 and 25 films."
   ]
  },
  {
   "cell_type": "code",
   "execution_count": null,
   "metadata": {
    "vscode": {
     "languageId": "sql"
    }
   },
   "outputs": [],
   "source": [
    "SELECT a.first_name, a.last_name, count(a.actor_id) movie_count\n",
    "FROM actor a \n",
    "JOIN film_actor fa ON a.actor_id = fa.actor_id \n",
    "GROUP BY first_name, last_name \n",
    "HAVING count(a.actor_id ) BETWEEN 20 AND 25 \n",
    "\n",
    "\n",
    "-- Returns (only a few of the results )\n",
    "-- Minnie\tKilmer\t    20\n",
    "-- Liza\t     Bergman\t25\n",
    "-- Michelle\t Mcconaughey23\n",
    "-- Burt\t     Temple\t    23\n",
    "-- Morgan\t Mcdormand\t25\n",
    "-- Kevin\t Bloom\t    21\n",
    "-- Rita\t     Reynolds\t20\n",
    "-- Burt\t     Posey\t    24\n",
    "-- Meryl\t Allen\t    22\n",
    "-- Nick\t     Wahlberg\t25\n",
    "-- Cuba\t     Birch\t    24\n",
    "-- Tom\t     Mckellen\t25\n",
    "-- Adam\t     Hopper\t    22\n",
    "-- Tim\t     Hackman\t23\n",
    "-- Milla\t Peck\t    24\n",
    "-- Christopher West\t    21\n",
    "-- Lisa\t     Monroe\t    23"
   ]
  }
 ],
 "metadata": {
  "language_info": {
   "name": "python"
  }
 },
 "nbformat": 4,
 "nbformat_minor": 2
}
